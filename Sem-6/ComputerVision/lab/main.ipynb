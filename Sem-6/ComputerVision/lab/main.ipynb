{
 "cells": [
  {
   "cell_type": "markdown",
   "id": "ed0dee98",
   "metadata": {},
   "source": [
    "# **Harris Corner Detection**"
   ]
  },
  {
   "cell_type": "code",
   "execution_count": 2,
   "id": "f638fe44",
   "metadata": {},
   "outputs": [],
   "source": [
    "import cv2\n",
    "import numpy as np \n",
    "imput_img = 'mask.png'\n",
    "ori = cv2.imread(imput_img)\n",
    "image = cv2.imread(imput_img)\n",
    "gray = cv2.cvtColor(image,cv2.COLOR_BGR2GRAY)\n",
    "gray = np.float32(gray)\n",
    "dst = cv2.cornerHarris(gray,2,3,0.04)\n",
    "dst = cv2.dilate(dst,None)\n",
    "image[dst>0.01*dst.max()]=[0,0,255]\n",
    "cv2.imshow('Original',ori) \n",
    "cv2.imshow('Harris',image)\n",
    "if cv2.waitKey(0) & 0xff == 27:\n",
    "    cv2.destroyAllWindows()"
   ]
  },
  {
   "cell_type": "markdown",
   "id": "86aeb962",
   "metadata": {},
   "source": [
    "# **Shi-Tomasi Corner Detector**"
   ]
  },
  {
   "cell_type": "code",
   "execution_count": 4,
   "id": "6df98586",
   "metadata": {},
   "outputs": [],
   "source": [
    "import numpy as np\n",
    "import cv2\n",
    "from matplotlib import pyplot as plt \n",
    "img = cv2.imread('mask.png')\n",
    "ori = cv2.imread('mask.png')\n",
    "gray = cv2.cvtColor(img,cv2.COLOR_BGR2GRAY)\n",
    "corners = cv2.goodFeaturesToTrack(gray,20,0.01,10)\n",
    "corners = corners.astype(int)\n",
    "for i in corners:\n",
    "    x,y = i.ravel()\n",
    "    cv2.circle(img,(x,y),3,255,-1) \n",
    "cv2.imshow('Original', ori)\n",
    "cv2.imshow('Shi-Tomasi', img)\n",
    "cv2.waitKey(0)\n",
    "cv2.destroyAllWindows()"
   ]
  }
 ],
 "metadata": {
  "kernelspec": {
   "display_name": "Python 3",
   "language": "python",
   "name": "python3"
  },
  "language_info": {
   "codemirror_mode": {
    "name": "ipython",
    "version": 3
   },
   "file_extension": ".py",
   "mimetype": "text/x-python",
   "name": "python",
   "nbconvert_exporter": "python",
   "pygments_lexer": "ipython3",
   "version": "3.12.10"
  }
 },
 "nbformat": 4,
 "nbformat_minor": 5
}
