{
 "cells": [
  {
   "cell_type": "markdown",
   "metadata": {},
   "source": [
    "# **Feb 11, 2025 Lab 01**"
   ]
  },
  {
   "cell_type": "code",
   "execution_count": null,
   "metadata": {},
   "outputs": [
    {
     "name": "stdout",
     "output_type": "stream",
     "text": [
      "3.12.9 (tags/v3.12.9:fdb8142, Feb  4 2025, 15:27:58) [MSC v.1942 64 bit (AMD64)]\n",
      "showing info https://raw.githubusercontent.com/nltk/nltk_data/gh-pages/index.xml\n",
      "*** Introductory Examples for the NLTK Book ***\n",
      "Loading text1, ..., text9 and sent1, ..., sent9\n",
      "Type the name of the text or sentence to view it.\n",
      "Type: 'texts()' or 'sents()' to list the materials.\n",
      "text1: Moby Dick by Herman Melville 1851\n",
      "text2: Sense and Sensibility by Jane Austen 1811\n",
      "text3: The Book of Genesis\n",
      "text4: Inaugural Address Corpus\n",
      "text5: Chat Corpus\n",
      "text6: Monty Python and the Holy Grail\n",
      "text7: Wall Street Journal\n",
      "text8: Personals Corpus\n",
      "text9: The Man Who Was Thursday by G . K . Chesterton 1908\n",
      "Displaying 11 of 11 matches:\n",
      "ong the former , one was of a most monstrous size . ... This came towards us , \n",
      "ON OF THE PSALMS . \" Touching that monstrous bulk of the whale or ork we have r\n",
      "ll over with a heathenish array of monstrous clubs and spears . Some were thick\n",
      "d as you gazed , and wondered what monstrous cannibal and savage could ever hav\n",
      "that has survived the flood ; most monstrous and most mountainous ! That Himmal\n",
      "they might scout at Moby Dick as a monstrous fable , or still worse and more de\n",
      "th of Radney .'\" CHAPTER 55 Of the Monstrous Pictures of Whales . I shall ere l\n",
      "ing Scenes . In connexion with the monstrous pictures of whales , I am strongly\n",
      "ere to enter upon those still more monstrous stories of them which are to be fo\n",
      "ght have been rummaged out of this monstrous cabinet there is no telling . But \n",
      "of Whale - Bones ; for Whales of a monstrous size are oftentimes cast up dead u\n",
      "Displaying 5 of 5 matches:\n",
      "n Cain , lest any finding him should kill him . And Cain went out from the pre\n",
      "say , This is his wife and they will kill me , but they will save thee alive .\n",
      "aid he , the men of the place should kill me for Rebekah ; because she was fai\n",
      " doth comfort himself , purposing to kill thee . Now therefore , my son , obey\n",
      " their hands ; and said , Let us not kill him . And Reuben said unto them , Sh\n",
      "true contemptible christian abundant few part mean careful puzzled\n",
      "mystifying passing curious loving wise doleful gamesome singular\n",
      "delightfully perilous fearless\n",
      "give put toward keep meet call against slay follow send love feel\n",
      "answer\n",
      "should_me\n"
     ]
    },
    {
     "name": "stderr",
     "output_type": "stream",
     "text": [
      "Building ngram index...\n"
     ]
    },
    {
     "name": "stdout",
     "output_type": "stream",
     "text": [
      "laid by her , and said unto Cain , Where art thou , and said , Go to ,\n",
      "I will not do it for ten ' s sons ; we dreamed each man according to\n",
      "their generatio the firstborn said unto Laban , Because I said , Nay ,\n",
      "but Sarah shall her name be . , duke Elah , duke Shobal , and Akan .\n",
      "and looked upon my affliction . Bashemath Ishmael ' s blood , but Isra\n",
      "for as a prince hast thou found of all the cattle in the valley , and\n",
      "the wo The\n"
     ]
    },
    {
     "data": {
      "text/plain": [
       "44764"
      ]
     },
     "execution_count": 1,
     "metadata": {},
     "output_type": "execute_result"
    },
    {
     "data": {
      "image/png": "[encoded data removed]",
      "text/plain": [
       "<Figure size 640x480 with 1 Axes>"
      ]
     },
     "metadata": {},
     "output_type": "display_data"
    }
   ],
   "source": [
    "\"\"\"import sys\n",
    "print(sys.version)\n",
    "import nltk\n",
    "nltk.__version__\n",
    "1+5*2-3 #terminal\n",
    "nltk.download()\n",
    "from nltk.book import *\n",
    "text1\n",
    "text2\n",
    "text1.concordance(\"monstrous\")\n",
    "text3.concordance(\"KILL\")\n",
    "text1.similar(\"monstrous\")\n",
    "text3.similar(\"kill\")\n",
    "text3.common_contexts([\"Kill\", \"put\"])\n",
    "text3.generate()\n",
    "text4.dispersion_plot([\"citizens\", \"democracy\", \"freedom\", \"duties\", \"America\"])\n",
    "len(text3)\"\"\""
   ]
  },
  {
   "cell_type": "markdown",
   "metadata": {},
   "source": [
    "# **Feb 25, 2025 Lab 02**"
   ]
  },
  {
   "cell_type": "code",
   "execution_count": 1,
   "metadata": {},
   "outputs": [],
   "source": [
    "import nltk"
   ]
  },
  {
   "cell_type": "code",
   "execution_count": 2,
   "metadata": {},
   "outputs": [
    {
     "name": "stdout",
     "output_type": "stream",
     "text": [
      "\t Python 3.0, released in 2008, was a major revision of the language that is not completely backward compatible and much Python 2 code does not run unmodified on Python 3. With Python 2's end-of-life, only Python 3.6.x[30] and later are supported, with older versions still supporting e.g. Windows 7 (and old installers not restricted to 64-bit Windows).\n"
     ]
    }
   ],
   "source": [
    "# input string \n",
    "string = \"\t Python 3.0, released in 2008, was a major revision of the language that is not completely backward compatible and much Python 2 code does not run unmodified on Python 3. With Python 2's end-of-life, only Python 3.6.x[30] and later are supported, with older versions still supporting e.g. Windows 7 (and old installers not restricted to 64-bit Windows).\"\n",
    "print(string)"
   ]
  },
  {
   "cell_type": "code",
   "execution_count": 3,
   "metadata": {},
   "outputs": [
    {
     "name": "stdout",
     "output_type": "stream",
     "text": [
      "\t python 3.0, released in 2008, was a major revision of the language that is not completely backward compatible and much python 2 code does not run unmodified on python 3. with python 2's end-of-life, only python 3.6.x[30] and later are supported, with older versions still supporting e.g. windows 7 (and old installers not restricted to 64-bit windows).\n"
     ]
    }
   ],
   "source": [
    "# convert to lower case\n",
    "lower_string = string.lower()\n",
    "print(lower_string)"
   ]
  },
  {
   "cell_type": "code",
   "execution_count": 4,
   "metadata": {},
   "outputs": [
    {
     "name": "stdout",
     "output_type": "stream",
     "text": [
      "\t python ., released in , was a major revision of the language that is not completely backward compatible and much python  code does not run unmodified on python . with python 's end-of-life, only python ..x[] and later are supported, with older versions still supporting e.g. windows  (and old installers not restricted to -bit windows).\n"
     ]
    }
   ],
   "source": [
    "# import regex\n",
    "import re\n",
    "\n",
    "# remove numbers\n",
    "no_number_string = re.sub(r'\\d+','',lower_string)\n",
    "print(no_number_string)"
   ]
  },
  {
   "cell_type": "code",
   "execution_count": 5,
   "metadata": {},
   "outputs": [
    {
     "name": "stdout",
     "output_type": "stream",
     "text": [
      "\t python  released in  was a major revision of the language that is not completely backward compatible and much python  code does not run unmodified on python  with python s endoflife only python x and later are supported with older versions still supporting eg windows  and old installers not restricted to bit windows\n"
     ]
    }
   ],
   "source": [
    "# remove all punctuation except words and space\n",
    "no_punc_string = re.sub(r'[^\\w\\s]','', no_number_string) \n",
    "print(no_punc_string)"
   ]
  },
  {
   "cell_type": "code",
   "execution_count": 6,
   "metadata": {},
   "outputs": [
    {
     "name": "stdout",
     "output_type": "stream",
     "text": [
      "python  released in  was a major revision of the language that is not completely backward compatible and much python  code does not run unmodified on python  with python s endoflife only python x and later are supported with older versions still supporting eg windows  and old installers not restricted to bit windows\n"
     ]
    }
   ],
   "source": [
    "# remove white spaces\n",
    "no_wspace_string = no_punc_string.strip()\n",
    "print(no_wspace_string)"
   ]
  },
  {
   "cell_type": "code",
   "execution_count": 7,
   "metadata": {},
   "outputs": [
    {
     "name": "stderr",
     "output_type": "stream",
     "text": [
      "[nltk_data] Downloading package stopwords to\n",
      "[nltk_data]     C:\\Users\\junai\\AppData\\Roaming\\nltk_data...\n",
      "[nltk_data]   Package stopwords is already up-to-date!\n"
     ]
    },
    {
     "data": {
      "text/plain": [
       "True"
      ]
     },
     "execution_count": 7,
     "metadata": {},
     "output_type": "execute_result"
    }
   ],
   "source": [
    "# download stopwords\n",
    "import nltk\n",
    "nltk.download('stopwords')"
   ]
  },
  {
   "cell_type": "code",
   "execution_count": 8,
   "metadata": {},
   "outputs": [
    {
     "name": "stdout",
     "output_type": "stream",
     "text": [
      "{'d', 'into', 'no', \"that'll\", 't', 'themselves', 'there', 'me', 'out', 'yourselves', 'y', 'in', 'why', 'has', 'haven', 'those', 'if', 'both', 'our', 'weren', 'which', 'through', 'here', \"he's\", 've', 'after', \"i'm\", 'yourself', 'ma', 'now', 'then', \"it'll\", 'couldn', 'just', 'they', 'ours', 'most', 'to', 'himself', \"i'll\", 'or', \"they're\", 'more', 'when', 'before', 'how', \"we'll\", 'he', 'herself', 'these', 'doing', 'too', \"it'd\", 'wasn', 'as', 'over', \"you've\", 'be', 'the', 'him', 'same', 'she', 'up', \"haven't\", 'for', 'under', \"he'll\", 'having', 'such', 'll', 'were', 'wouldn', \"we'd\", 'does', 'than', \"they'll\", 'but', \"isn't\", 'ain', 'any', 'should', 'only', \"mustn't\", 'so', 'myself', 'where', 'nor', \"i've\", 'because', 'don', 'what', 'did', 'are', 'other', 'am', 'aren', 'until', 'on', 'your', 'his', 'own', \"i'd\", \"she's\", 'who', 'shan', 'above', \"weren't\", 'some', 'my', 'is', \"shouldn't\", 'off', \"should've\", 'a', \"doesn't\", \"don't\", 'hasn', 'needn', \"won't\", \"mightn't\", 'hers', 'will', \"wasn't\", 'below', 's', 'about', \"didn't\", 'hadn', 'theirs', 'shouldn', 'have', 'being', 'it', \"you'll\", 'while', 'with', 'again', \"she'd\", 'down', \"shan't\", 'not', 'can', 'few', \"hasn't\", 'mustn', 'all', \"they'd\", 'didn', 'very', \"needn't\", 'yours', \"it's\", 'by', \"they've\", \"we're\", \"you'd\", 'their', 'from', \"hadn't\", 'isn', \"couldn't\", 'mightn', \"we've\", 'was', 'an', 'her', 'at', 'of', 'i', 'you', 'and', 'its', 'this', 'we', \"she'll\", 'o', \"he'd\", 'during', 'against', 'once', 'between', 'had', 'been', 'further', 'them', \"aren't\", 'm', \"wouldn't\", 'that', \"you're\", 'ourselves', 're', 'doesn', 'each', 'itself', 'do', 'whom', 'won'}\n"
     ]
    }
   ],
   "source": [
    "# import nltk for stopwords\n",
    "from nltk.corpus import stopwords\n",
    "stop_words = set(stopwords.words('english'))\n",
    "print(stop_words)"
   ]
  },
  {
   "cell_type": "code",
   "execution_count": 9,
   "metadata": {},
   "outputs": [
    {
     "data": {
      "text/plain": [
       "198"
      ]
     },
     "execution_count": 9,
     "metadata": {},
     "output_type": "execute_result"
    }
   ],
   "source": [
    "len(stop_words)"
   ]
  },
  {
   "cell_type": "code",
   "execution_count": 10,
   "metadata": {},
   "outputs": [
    {
     "name": "stdout",
     "output_type": "stream",
     "text": [
      "['python', 'released', 'in', 'was', 'a', 'major', 'revision', 'of', 'the', 'language', 'that', 'is', 'not', 'completely', 'backward', 'compatible', 'and', 'much', 'python', 'code', 'does', 'not', 'run', 'unmodified', 'on', 'python', 'with', 'python', 's', 'endoflife', 'only', 'python', 'x', 'and', 'later', 'are', 'supported', 'with', 'older', 'versions', 'still', 'supporting', 'eg', 'windows', 'and', 'old', 'installers', 'not', 'restricted', 'to', 'bit', 'windows']\n"
     ]
    }
   ],
   "source": [
    "# convert string to list of words\n",
    "lst_string = [no_wspace_string][0].split()\n",
    "print(lst_string)"
   ]
  },
  {
   "cell_type": "code",
   "execution_count": 11,
   "metadata": {},
   "outputs": [
    {
     "data": {
      "text/plain": [
       "52"
      ]
     },
     "execution_count": 11,
     "metadata": {},
     "output_type": "execute_result"
    }
   ],
   "source": [
    "len(lst_string)"
   ]
  },
  {
   "cell_type": "code",
   "execution_count": 12,
   "metadata": {},
   "outputs": [],
   "source": [
    "# remove stopwords\n",
    "no_stpwords_string=\"\"\n",
    "for i in lst_string:\n",
    "    if not i in stop_words:\n",
    "        no_stpwords_string += i+' '"
   ]
  },
  {
   "cell_type": "code",
   "execution_count": 13,
   "metadata": {},
   "outputs": [
    {
     "name": "stdout",
     "output_type": "stream",
     "text": [
      "python released major revision language completely backward compatible much python code run unmodified python python endoflife python x later supported older versions still supporting eg windows old installers restricted bit windows\n"
     ]
    }
   ],
   "source": [
    "# removing last space\n",
    "no_stpwords_string = no_stpwords_string[:-1]\n",
    "print(no_stpwords_string)"
   ]
  },
  {
   "cell_type": "markdown",
   "metadata": {},
   "source": [
    "# **Lab 2 Task**"
   ]
  },
  {
   "cell_type": "code",
   "execution_count": 14,
   "metadata": {},
   "outputs": [
    {
     "name": "stdout",
     "output_type": "stream",
     "text": [
      "Okay, so, like, basically, I was thinking, you know, maybe, just maybe, we could, possibly, try to, you know, implement, like, a new feature, or something, I don't know, maybe, version 3.14, or 2.71, I'm not really sure, but, hey, it's worth a shot, right? So, yeah, let's, um, get started, I guess, and, oh, by the way, did I mention, we'll need, like, 1000 cups of coffee, or more, to, you know, fuel our brains, and stuff.\n"
     ]
    }
   ],
   "source": [
    "# Open the file in read mode\n",
    "with open('test.txt', 'r') as file:\n",
    "    # Read the contents of the file\n",
    "    content = file.read()\n",
    "\n",
    "# Print the content of the file\n",
    "print(content)"
   ]
  },
  {
   "cell_type": "code",
   "execution_count": 15,
   "metadata": {},
   "outputs": [
    {
     "name": "stdout",
     "output_type": "stream",
     "text": [
      "okay, so, like, basically, i was thinking, you know, maybe, just maybe, we could, possibly, try to, you know, implement, like, a new feature, or something, i don't know, maybe, version 3.14, or 2.71, i'm not really sure, but, hey, it's worth a shot, right? so, yeah, let's, um, get started, i guess, and, oh, by the way, did i mention, we'll need, like, 1000 cups of coffee, or more, to, you know, fuel our brains, and stuff.\n",
      "\n",
      "********************************************\n",
      "\n",
      "okay, so, like, basically, i was thinking, you know, maybe, just maybe, we could, possibly, try to, you know, implement, like, a new feature, or something, i don't know, maybe, version ., or ., i'm not really sure, but, hey, it's worth a shot, right? so, yeah, let's, um, get started, i guess, and, oh, by the way, did i mention, we'll need, like,  cups of coffee, or more, to, you know, fuel our brains, and stuff.\n",
      "\n",
      "********************************************\n",
      "\n",
      "okay so like basically i was thinking you know maybe just maybe we could possibly try to you know implement like a new feature or something i dont know maybe version  or  im not really sure but hey its worth a shot right so yeah lets um get started i guess and oh by the way did i mention well need like  cups of coffee or more to you know fuel our brains and stuff\n",
      "\n",
      "********************************************\n",
      "\n",
      "okay so like basically i was thinking you know maybe just maybe we could possibly try to you know implement like a new feature or something i dont know maybe version  or  im not really sure but hey its worth a shot right so yeah lets um get started i guess and oh by the way did i mention well need like  cups of coffee or more to you know fuel our brains and stuff\n",
      "\n",
      "********************************************\n",
      "\n",
      "['okay', 'so', 'like', 'basically', 'i', 'was', 'thinking', 'you', 'know', 'maybe', 'just', 'maybe', 'we', 'could', 'possibly', 'try', 'to', 'you', 'know', 'implement', 'like', 'a', 'new', 'feature', 'or', 'something', 'i', 'dont', 'know', 'maybe', 'version', 'or', 'im', 'not', 'really', 'sure', 'but', 'hey', 'its', 'worth', 'a', 'shot', 'right', 'so', 'yeah', 'lets', 'um', 'get', 'started', 'i', 'guess', 'and', 'oh', 'by', 'the', 'way', 'did', 'i', 'mention', 'well', 'need', 'like', 'cups', 'of', 'coffee', 'or', 'more', 'to', 'you', 'know', 'fuel', 'our', 'brains', 'and', 'stuff']\n",
      "\n",
      "********************************************\n",
      "\n",
      "okay like basically thinking know maybe maybe could possibly try know implement like new feature something dont know maybe version im really sure hey worth shot right yeah lets um get started guess oh way mention well need like cups coffee know fuel brains stuff\n"
     ]
    }
   ],
   "source": [
    "# convert to lower case\n",
    "lower_string = content.lower()\n",
    "print(lower_string)\n",
    "\n",
    "print(\"\\n********************************************\\n\")\n",
    "\n",
    "# import regex\n",
    "import re\n",
    "\n",
    "# remove numbers\n",
    "no_number_string = re.sub(r'\\d+','',lower_string)\n",
    "print(no_number_string)\n",
    "\n",
    "print(\"\\n********************************************\\n\")\n",
    "\n",
    "# remove all punctuation except words and space\n",
    "no_punc_string = re.sub(r'[^\\w\\s]','', no_number_string) \n",
    "print(no_punc_string)\n",
    "\n",
    "print(\"\\n********************************************\\n\")\n",
    "\n",
    "# remove white spaces\n",
    "no_wspace_string = no_punc_string.strip()\n",
    "print(no_wspace_string)\n",
    "\n",
    "print(\"\\n********************************************\\n\")\n",
    "\n",
    "# convert string to list of words\n",
    "lst_string = [no_wspace_string][0].split()\n",
    "print(lst_string)\n",
    "\n",
    "print(\"\\n********************************************\\n\")\n",
    "\n",
    "# import nltk for stopwords\n",
    "from nltk.corpus import stopwords\n",
    "stop_words = set(stopwords.words('english'))\n",
    "\n",
    "# remove stopwords\n",
    "no_stpwords_string=\"\"\n",
    "for i in lst_string:\n",
    "    if not i in stop_words:\n",
    "        no_stpwords_string += i+' '\n",
    "\n",
    "# removing last space\n",
    "no_stpwords_string = no_stpwords_string[:-1]\n",
    "print(no_stpwords_string)"
   ]
  },
  {
   "cell_type": "markdown",
   "metadata": {},
   "source": [
    "# **March 04, 2025 Lab 03**"
   ]
  },
  {
   "cell_type": "code",
   "execution_count": 16,
   "metadata": {},
   "outputs": [
    {
     "name": "stdout",
     "output_type": "stream",
     "text": [
      "Thisisasentence.\n"
     ]
    }
   ],
   "source": [
    "# Joining: Joining a list of strings into a single string.\n",
    "words = ['This', 'is', 'a', 'sentence.']\n",
    "text = ''.join(words)\n",
    "print(text)\n"
   ]
  },
  {
   "cell_type": "code",
   "execution_count": 17,
   "metadata": {},
   "outputs": [
    {
     "name": "stdout",
     "output_type": "stream",
     "text": [
      "Name: Alice, Age: 30, Sub: NLP\n",
      "Name: 30, Age: Alice\n"
     ]
    }
   ],
   "source": [
    "# Formatting: Formatting strings with placeholders.\n",
    "name = \"Alice\"\n",
    "age = 30\n",
    "sub = \"NLP\"\n",
    "text = \"Name: {}, Age: {}, Sub: {}\".format(name, age, sub)\n",
    "print(text)\n",
    "\n",
    "text = \"Name: {}, Age: {}\".format(age, name)\n",
    "print(text)\n"
   ]
  },
  {
   "cell_type": "code",
   "execution_count": 18,
   "metadata": {},
   "outputs": [],
   "source": [
    "import nltk"
   ]
  },
  {
   "cell_type": "code",
   "execution_count": 19,
   "metadata": {},
   "outputs": [
    {
     "name": "stderr",
     "output_type": "stream",
     "text": [
      "[nltk_data] Downloading package punkt to\n",
      "[nltk_data]     C:\\Users\\junai\\AppData\\Roaming\\nltk_data...\n",
      "[nltk_data]   Package punkt is already up-to-date!\n"
     ]
    },
    {
     "name": "stdout",
     "output_type": "stream",
     "text": [
      "['Tokenization', 'is', 'an', 'important', 'step', 'in', 'NLP', '.']\n"
     ]
    }
   ],
   "source": [
    "# Tokenization: Tokenization is breaking text into smaller units, such as words or phrases, known as tokens.\n",
    "\n",
    "import nltk\n",
    "\n",
    "nltk.download('punkt')\n",
    "from nltk.tokenize import word_tokenize \n",
    "text = \"Tokenization is an important step in NLP.\" \n",
    "tokens = word_tokenize(text) \n",
    "print(tokens) \n"
   ]
  },
  {
   "cell_type": "code",
   "execution_count": 20,
   "metadata": {},
   "outputs": [
    {
     "name": "stdout",
     "output_type": "stream",
     "text": [
      "Remove special characters from this text\n",
      "#!\n",
      "#!\n",
      "Remove 1special characters from this text1\n"
     ]
    }
   ],
   "source": [
    "# Filtration: Filtration typically involves removing unwanted characters or patterns from the text, such as punctuation or special characters.\n",
    "\n",
    "import re \n",
    "text = \"Remove #special characters from this text!\" \n",
    "filtered_text = re.sub(r'[^a-zA-Z\\s]', '', text) \n",
    "print(filtered_text) \n",
    "\n",
    "filtered_text = re.sub(r'[?a-zA-Z\\s]', '', text) \n",
    "print(filtered_text) \n",
    "\n",
    "filtered_text = re.sub(r'[a-zA-Z\\s]', '', text) \n",
    "print(filtered_text) \n",
    "\n",
    "filtered_text = re.sub(r'[^a-zA-Z\\s]', '1', text) \n",
    "print(filtered_text) "
   ]
  },
  {
   "cell_type": "code",
   "execution_count": 21,
   "metadata": {},
   "outputs": [
    {
     "name": "stdout",
     "output_type": "stream",
     "text": [
      "['92-051-920125']\n",
      "['+92-051-920125']\n",
      "['+92-333-4217291']\n"
     ]
    }
   ],
   "source": [
    "import re \n",
    "text = \"Please call me at +92-051-920125.\" \n",
    "# also extract + in the phone number\n",
    "\n",
    "phone_numbers = re.findall(r'\\d{2}-\\d{3}-\\d{6}', text) \n",
    "print(phone_numbers)\n",
    "\n",
    "phone_numbers = re.findall(r'\\+\\d{2}-\\d{3}-\\d{6}', text)\n",
    "print(phone_numbers)\n",
    "\n",
    "text1 = \"Please call me at +92-333-4217291.\"\n",
    "phone_numbers = re.findall(r'\\+\\d{2}-\\d{3}-\\d{7}', text1)\n",
    "print(phone_numbers)"
   ]
  },
  {
   "cell_type": "markdown",
   "metadata": {},
   "source": [
    "# **March 11, 2025 Lab 04**"
   ]
  },
  {
   "cell_type": "code",
   "execution_count": 22,
   "metadata": {},
   "outputs": [
    {
     "name": "stderr",
     "output_type": "stream",
     "text": [
      "[nltk_data] Downloading package punkt to\n",
      "[nltk_data]     C:\\Users\\junai\\AppData\\Roaming\\nltk_data...\n",
      "[nltk_data]   Package punkt is already up-to-date!\n"
     ]
    },
    {
     "data": {
      "text/plain": [
       "True"
      ]
     },
     "execution_count": 22,
     "metadata": {},
     "output_type": "execute_result"
    }
   ],
   "source": [
    "import nltk\n",
    "nltk.download('punkt')\n"
   ]
  },
  {
   "cell_type": "code",
   "execution_count": 23,
   "metadata": {},
   "outputs": [
    {
     "name": "stdout",
     "output_type": "stream",
     "text": [
      "True\n",
      "False\n"
     ]
    }
   ],
   "source": [
    "import nltk\n",
    "from nltk.tokenize import word_tokenize\n",
    "\n",
    "def is_english(text):\n",
    "    try:\n",
    "        words = word_tokenize(text)\n",
    "        return all(word.isascii() for word in words)\n",
    "    except UnicodeDecodeError: \n",
    "        return False \n",
    "\n",
    "text1 = \"This is English text.\"\n",
    "print(is_english(text1)) \n",
    "\n",
    "text2 = \"这是中文文本。\"\n",
    "print(is_english(text2))\n"
   ]
  },
  {
   "cell_type": "code",
   "execution_count": 32,
   "metadata": {},
   "outputs": [
    {
     "name": "stdout",
     "output_type": "stream",
     "text": [
      "['This', 'is', 'an', 'example', 'sentence', 'demonstrating', 'stop', 'word', 'removal', '.']\n",
      "['example', 'sentence', 'demonstrating', 'stop', 'word', 'removal', '.']\n"
     ]
    }
   ],
   "source": [
    "# Stop Word Removal: Stop words are common words (e.g., \"the\", \"is\", \"and\") that are often removed from text because they do not carry significant meaning. \n",
    "\n",
    "#nltk.download('stopwords') \n",
    "from nltk.corpus import stopwords  \n",
    "from nltk.tokenize import word_tokenize  \n",
    "text = \"This is an example sentence demonstrating stop word removal.\"  \n",
    "stop_words = set(stopwords.words('english'))  \n",
    "tokens = word_tokenize(text) \n",
    "print(tokens)\n",
    "filtered_tokens = [word for word in tokens if word.lower() not in stop_words]  \n",
    "print(filtered_tokens)  "
   ]
  },
  {
   "cell_type": "code",
   "execution_count": 36,
   "metadata": {},
   "outputs": [
    {
     "name": "stdout",
     "output_type": "stream",
     "text": [
      "['run', 'easili', 'better']\n"
     ]
    }
   ],
   "source": [
    "#Stemming: Stemming is the process of reducing words to their root or base form. \n",
    "\n",
    "from nltk.stem import PorterStemmer \n",
    "from nltk.tokenize import word_tokenize \n",
    "ps = PorterStemmer() \n",
    "words = [\"running\", \"easily\", \"better\"] \n",
    "stemmed_words = [ps.stem(word) for word in words] \n",
    "print(stemmed_words) "
   ]
  },
  {
   "cell_type": "code",
   "execution_count": 45,
   "metadata": {},
   "outputs": [
    {
     "name": "stdout",
     "output_type": "stream",
     "text": [
      "run\n"
     ]
    }
   ],
   "source": [
    "# Lemmatization: Lemmatization is the process of reducing words to their base or root form (lemma). \n",
    "\n",
    "from nltk.stem import WordNetLemmatizer \n",
    "lemmatizer = WordNetLemmatizer() \n",
    "word = \"running\" \n",
    "lemma = lemmatizer.lemmatize(word, pos='v') \n",
    "print(lemma) "
   ]
  },
  {
   "cell_type": "code",
   "execution_count": 47,
   "metadata": {},
   "outputs": [
    {
     "name": "stdout",
     "output_type": "stream",
     "text": [
      "hello world!\n",
      "Cafe\n",
      "I cannot go to the party.\n",
      "Hello world Hows it going\n",
      "['Hello', 'world!']\n",
      "['sample', 'sentence.']\n"
     ]
    }
   ],
   "source": [
    "# Normalization: Normalizing text involves converting text to a standard form, such as converting all letters to lowercase, removing accents, or expanding contractions. \n",
    "\n",
    "# 1. Lowercasing: Convert all letters in the text to lowercase to ensure uniformity. \n",
    "#Example: \n",
    "\n",
    "text = \"Hello World!\" \n",
    "normalized_text = text.lower() \n",
    "print(normalized_text)  # Output: \"hello world!\" \n",
    "\n",
    "# 2. Removing Accents: Strip accents from characters to simplify the text. \n",
    "#Example: \n",
    "\n",
    "import unidecode \n",
    "text = \"Café\" \n",
    "normalized_text = unidecode.unidecode(text) \n",
    "print(normalized_text)  # Output: \"Cafe\" \n",
    "\n",
    "# 3. Expanding Contractions: Convert contractions to their full forms for clarity. \n",
    "#Example: \n",
    "\n",
    "text = \"I can't go to the party.\" \n",
    "expanded_text = text.replace(\"can't\", \"cannot\") \n",
    "print(expanded_text)  # Output: \"I cannot go to the party.\" \n",
    "\n",
    "# 4. Removing Punctuation: Eliminate punctuation marks to focus on words. \n",
    "#Example: \n",
    "\n",
    "import re \n",
    "text = \"Hello, world! How's it going?\" \n",
    "normalized_text = re.sub(r'[^\\w\\s]', '', text) \n",
    "print(normalized_text)  # Output: \"Hello world Hows it going\" \n",
    "\n",
    "# 5. Tokenization: Splitting the text into individual words or tokens. \n",
    "#Example: \n",
    "\n",
    "text = \"Hello world!\" \n",
    "tokens = text.split() \n",
    "print(tokens)  # Output: ['Hello', 'world!'] \n",
    "\n",
    "# 6. Removing Stop Words: Eliminate common words that may not add much meaning. \n",
    "#Example: \n",
    "\n",
    "from nltk.corpus import stopwords \n",
    "text = \"This is a sample sentence.\" \n",
    "stop_words = set(stopwords.words('english')) \n",
    "filtered_words = [word for word in text.split() if word.lower() not in stop_words] \n",
    "print(filtered_words)  # Output: ['sample', 'sentence.'] "
   ]
  },
  {
   "cell_type": "code",
   "execution_count": 48,
   "metadata": {},
   "outputs": [
    {
     "name": "stdout",
     "output_type": "stream",
     "text": [
      "This is a sample paragraph It contains some punctuation marks like commas periods and question marks\n"
     ]
    }
   ],
   "source": [
    "#Tokenization: • Tokenize a paragraph of text into words and remove punctuation marks. \n",
    "#Code Example  \n",
    "\n",
    "import nltk \n",
    "from nltk.tokenize import word_tokenize \n",
    "import string \n",
    "# Sample paragraph of text \n",
    "paragraph = \"This is a sample paragraph. It contains some punctuation marks, like commas, periods, and question marks!\" \n",
    "# Tokenize the paragraph into words \n",
    "tokens = word_tokenize(paragraph) \n",
    "# Remove punctuation marks from the tokens \n",
    "tokens_without_punctuation = [word for word in tokens if word not in string.punctuation] \n",
    "# Join the tokens back into a sentence \n",
    "cleaned_text = ' '.join(tokens_without_punctuation) \n",
    "# Print the cleaned text \n",
    "print(cleaned_text) "
   ]
  },
  {
   "cell_type": "code",
   "execution_count": 49,
   "metadata": {},
   "outputs": [
    {
     "name": "stdout",
     "output_type": "stream",
     "text": [
      "Remove special characters from this text\n"
     ]
    }
   ],
   "source": [
    "#Filtration: • Write a Python function to filter out non-alphabetic characters from a given text. \n",
    "#Code Example \n",
    "\n",
    "import re \n",
    "def filter_non_alphabetic(text): \n",
    "# Use regular expression to remove non-alphabetic characters \n",
    "    filtered_text = re.sub(r'[^a-zA-Z\\s]', '', text) \n",
    "    return filtered_text \n",
    "# Example usage \n",
    "text = \"Remove #special characters from this text!\" \n",
    "filtered_text = filter_non_alphabetic(text) \n",
    "print(filtered_text) "
   ]
  },
  {
   "cell_type": "code",
   "execution_count": 50,
   "metadata": {},
   "outputs": [
    {
     "name": "stdout",
     "output_type": "stream",
     "text": [
      "Remove  special characters from this text\n"
     ]
    }
   ],
   "source": [
    "#Filter out numbers and special characters from a given text. \n",
    "#Code Example \n",
    "\n",
    "import re \n",
    "def filter_non_alpha_numeric(text): \n",
    "# Use regular expression to remove non-alphabetic characters \n",
    "    filtered_text = re.sub(r'[^a-zA-Z\\s]', '', text) \n",
    "    return filtered_text \n",
    "# Example usage \n",
    "text = \"Remove 123 special characters from this text!\" \n",
    "filtered_text = filter_non_alpha_numeric(text) \n",
    "print(filtered_text)"
   ]
  },
  {
   "cell_type": "code",
   "execution_count": 56,
   "metadata": {},
   "outputs": [
    {
     "name": "stdout",
     "output_type": "stream",
     "text": [
      "The text is clean.\n"
     ]
    }
   ],
   "source": [
    "#Script Validation: • Write a script to check if a given text contains any profanity or offensive language. \n",
    "#Code Example \n",
    "\n",
    "#pip install profanity-check \n",
    "\n",
    "\"\"\"import profanity_check \n",
    "def check_profanity(text): \n",
    "# Load the profanity check model \n",
    "    clf = profanity_check.load_model() \n",
    "# Check if the text contains profanity \n",
    "    is_profane = any(clf.predict([text])) \n",
    "    return is_profane \n",
    "# Example usage \n",
    "text = \"This is a clean text.\" \n",
    "if check_profanity(text): \n",
    "    print(\"The text contains profanity.\") \n",
    "else: \n",
    "    print(\"The text is clean.\") \"\"\"\n",
    "\n",
    "\n",
    "from profanity import profanity\n",
    "\n",
    "text = \"This is a bad word example.\"\n",
    "if profanity.contains_profanity(text):\n",
    "    print(\"The text contains profanity.\")\n",
    "else:\n",
    "    print(\"The text is clean.\")"
   ]
  },
  {
   "cell_type": "code",
   "execution_count": 59,
   "metadata": {},
   "outputs": [
    {
     "name": "stdout",
     "output_type": "stream",
     "text": [
      "sample sentence stop words like\n"
     ]
    }
   ],
   "source": [
    "#Stop Word Removal: • Write a Python function to remove common stop words like \"the\", \"and\", \"is\", etc., from a text. \n",
    "#Code Example \n",
    "\n",
    "import nltk \n",
    "from nltk.corpus import stopwords \n",
    "from nltk.tokenize import word_tokenize \n",
    "#nltk.download('stopwords') \n",
    "#nltk.download('punkt') \n",
    "def remove_stop_words(text): \n",
    "# Tokenize the text into words \n",
    "    words = word_tokenize(text) \n",
    "# Get the English stop words from NLTK \n",
    "    stop_words = set(stopwords.words('english')) \n",
    "# Remove stop words from the text \n",
    "    filtered_words = [word for word in words if word.lower() not in stop_words] \n",
    "# Join the filtered words back into a sentence \n",
    "    filtered_text = ' '.join(filtered_words) \n",
    "    return filtered_text \n",
    "# Example usage \n",
    "text = \"This is a sample sentence with some stop words like the and is\" \n",
    "filtered_text = remove_stop_words(text) \n",
    "print(filtered_text) "
   ]
  },
  {
   "cell_type": "code",
   "execution_count": 61,
   "metadata": {},
   "outputs": [
    {
     "name": "stdout",
     "output_type": "stream",
     "text": [
      "stem is the process of reduc word to their word stem , base , or root form .\n"
     ]
    }
   ],
   "source": [
    "#Stemming: • Write a Python function to perform stemming on a given text using the Porter stemmer algorithm \n",
    "#Code Example \n",
    "\n",
    "from nltk.stem import PorterStemmer \n",
    "from nltk.tokenize import word_tokenize \n",
    "import nltk \n",
    "#nltk.download('punkt') \n",
    "def stem_text(text): \n",
    "# Initialize the Porter stemmer \n",
    "    stemmer = PorterStemmer() \n",
    "# Tokenize the text into words \n",
    "    words = word_tokenize(text) \n",
    "# Stem each word in the text \n",
    "    stemmed_words = [stemmer.stem(word) for word in words] \n",
    "# Join the stemmed words back into a single string \n",
    "    stemmed_text = ' '.join(stemmed_words) \n",
    "    return stemmed_text \n",
    "# Example usage \n",
    "text = \"Stemming is the process of reducing words to their word stem, base, or root form.\" \n",
    "stemmed_text = stem_text(text) \n",
    "print(stemmed_text)"
   ]
  },
  {
   "cell_type": "markdown",
   "metadata": {},
   "source": [
    "# **Lab Assignment 1**"
   ]
  },
  {
   "cell_type": "markdown",
   "metadata": {},
   "source": [
    "1. Extract the English text from the following sentences   \n",
    "    a. This is  لرچین language processing ہاگ ہبرجت   \n",
    "    b. 你好, I am fine, 你 那"
   ]
  },
  {
   "cell_type": "code",
   "execution_count": 63,
   "metadata": {},
   "outputs": [
    {
     "name": "stdout",
     "output_type": "stream",
     "text": [
      "This is language processing\n",
      "I am fine\n"
     ]
    }
   ],
   "source": [
    "import re\n",
    "\n",
    "def extract_english(text):\n",
    "    # Regular expression to match English words\n",
    "    english_words = re.findall(r'[A-Za-z]+', text)\n",
    "    return ' '.join(english_words)\n",
    "\n",
    "# Example sentences\n",
    "text1 = \"This is  لرچین language processing ہاگ ہبرجت\"\n",
    "text2 = \"你好, I am fine, 你 那\"\n",
    "\n",
    "# Extract English text\n",
    "print(extract_english(text1)) \n",
    "print(extract_english(text2)) \n"
   ]
  },
  {
   "cell_type": "markdown",
   "metadata": {},
   "source": [
    "2.  Explore the library stop words for different languages (e.g. Chinese, Arabic, Japanese, etc.) "
   ]
  },
  {
   "cell_type": "code",
   "execution_count": 66,
   "metadata": {},
   "outputs": [
    {
     "name": "stdout",
     "output_type": "stream",
     "text": [
      "['albanian', 'arabic', 'azerbaijani', 'basque', 'belarusian', 'bengali', 'catalan', 'chinese', 'danish', 'dutch', 'english', 'finnish', 'french', 'german', 'greek', 'hebrew', 'hinglish', 'hungarian', 'indonesian', 'italian', 'kazakh', 'nepali', 'norwegian', 'portuguese', 'romanian', 'russian', 'slovene', 'spanish', 'swedish', 'tajik', 'tamil', 'turkish']\n"
     ]
    }
   ],
   "source": [
    "import nltk\n",
    "from nltk.corpus import stopwords\n",
    "\n",
    "\n",
    "# Available languages\n",
    "print(stopwords.fileids())"
   ]
  },
  {
   "cell_type": "code",
   "execution_count": null,
   "metadata": {},
   "outputs": [
    {
     "name": "stdout",
     "output_type": "stream",
     "text": [
      "*****Chinese Stopwords*****\n",
      "['一', '一下', '一些', '一切', '一则', '一天', '一定', '一方面', '一旦', '一时', '一来', '一样', '一次', '一片', '一直', '一致', '一般', '一起', '一边', '一面', '万一', '上下', '上升', '上去', '上来', '上述', '上面', '下列', '下去', '下来', '下面', '不一', '不久', '不仅', '不会', '不但', '不光', '不单', '不变', '不只', '不可', '不同', '不够', '不如', '不得', '不怕', '不惟', '不成', '不拘', '不敢', '不断', '不是', '不比', '不然', '不特', '不独', '不管', '不能', '不要', '不论', '不足', '不过', '不问', '与', '与其', '与否', '与此同时', '专门', '且', '两者', '严格', '严重', '个', '个人', '个别', '中小', '中间', '丰富', '临', '为', '为主', '为了', '为什么', '为什麽', '为何', '为着', '主张', '主要', '举行', '乃', '乃至', '么', '之', '之一', '之前', '之后', '之後', '之所以', '之类', '乌乎', '乎', '乘', '也', '也好', '也是', '也罢', '了', '了解', '争取', '于', '于是', '于是乎', '云云', '互相', '产生', '人们', '人家', '什么', '什么样', '什麽', '今后', '今天', '今年', '今後', '仍然', '从', '从事', '从而', '他', '他人', '他们', '他的', '代替', '以', '以上', '以下', '以为', '以便', '以免', '以前', '以及', '以后', '以外', '以後', '以来', '以至', '以至于', '以致', '们', '任', '任何', '任凭', '任务', '企图', '伟大', '似乎', '似的', '但', '但是', '何', '何况', '何处', '何时', '作为', '你', '你们', '你的', '使得', '使用', '例如', '依', '依照', '依靠', '促进', '保持', '俺', '俺们', '倘', '倘使', '倘或', '倘然', '倘若', '假使', '假如', '假若', '做到', '像', '允许', '充分', '先后', '先後', '先生', '全部', '全面', '兮', '共同', '关于', '其', '其一', '其中', '其二', '其他', '其余', '其它', '其实', '其次', '具体', '具体地说', '具体说来', '具有', '再者', '再说', '冒', '冲', '决定', '况且', '准备', '几', '几乎', '几时', '凭', '凭借', '出去', '出来', '出现', '分别', '则', '别', '别的', '别说', '到', '前后', '前者', '前进', '前面', '加之', '加以', '加入', '加强', '十分', '即', '即令', '即使', '即便', '即或', '即若', '却不', '原来', '又', '及', '及其', '及时', '及至', '双方', '反之', '反应', '反映', '反过来', '反过来说', '取得', '受到', '变成', '另', '另一方面', '另外', '只是', '只有', '只要', '只限', '叫', '叫做', '召开', '叮咚', '可', '可以', '可是', '可能', '可见', '各', '各个', '各人', '各位', '各地', '各种', '各级', '各自', '合理', '同', '同一', '同时', '同样', '后来', '后面', '向', '向着', '吓', '吗', '否则', '吧', '吧哒', '吱', '呀', '呃', '呕', '呗', '呜', '呜呼', '呢', '周围', '呵', '呸', '呼哧', '咋', '和', '咚', '咦', '咱', '咱们', '咳', '哇', '哈', '哈哈', '哉', '哎', '哎呀', '哎哟', '哗', '哟', '哦', '哩', '哪', '哪个', '哪些', '哪儿', '哪天', '哪年', '哪怕', '哪样', '哪边', '哪里', '哼', '哼唷', '唉', '啊', '啐', '啥', '啦', '啪达', '喂', '喏', '喔唷', '嗡嗡', '嗬', '嗯', '嗳', '嘎', '嘎登', '嘘', '嘛', '嘻', '嘿', '因', '因为', '因此', '因而', '固然', '在', '在下', '地', '坚决', '坚持', '基本', '处理', '复杂', '多', '多少', '多数', '多次', '大力', '大多数', '大大', '大家', '大批', '大约', '大量', '失去', '她', '她们', '她的', '好的', '好象', '如', '如上所述', '如下', '如何', '如其', '如果', '如此', '如若', '存在', '宁', '宁可', '宁愿', '宁肯', '它', '它们', '它们的', '它的', '安全', '完全', '完成', '实现', '实际', '宣布', '容易', '密切', '对', '对于', '对应', '将', '少数', '尔后', '尚且', '尤其', '就', '就是', '就是说', '尽', '尽管', '属于', '岂但', '左右', '巨大', '巩固', '己', '已经', '帮助', '常常', '并', '并不', '并不是', '并且', '并没有', '广大', '广泛', '应当', '应用', '应该', '开外', '开始', '开展', '引起', '强烈', '强调', '归', '当', '当前', '当时', '当然', '当着', '形成', '彻底', '彼', '彼此', '往', '往往', '待', '後来', '後面', '得', '得出', '得到', '心里', '必然', '必要', '必须', '怎', '怎么', '怎么办', '怎么样', '怎样', '怎麽', '总之', '总是', '总的来看', '总的来说', '总的说来', '总结', '总而言之', '恰恰相反', '您', '意思', '愿意', '慢说', '成为', '我', '我们', '我的', '或', '或是', '或者', '战斗', '所', '所以', '所有', '所谓', '打', '扩大', '把', '抑或', '拿', '按', '按照', '换句话说', '换言之', '据', '掌握', '接着', '接著', '故', '故此', '整个', '方便', '方面', '旁人', '无宁', '无法', '无论', '既', '既是', '既然', '时候', '明显', '明确', '是', '是否', '是的', '显然', '显著', '普通', '普遍', '更加', '曾经', '替', '最后', '最大', '最好', '最後', '最近', '最高', '有', '有些', '有关', '有利', '有力', '有所', '有效', '有时', '有点', '有的', '有着', '有著', '望', '朝', '朝着', '本', '本着', '来', '来着', '极了', '构成', '果然', '果真', '某', '某个', '某些', '根据', '根本', '欢迎', '正在', '正如', '正常', '此', '此外', '此时', '此间', '毋宁', '每', '每个', '每天', '每年', '每当', '比', '比如', '比方', '比较', '毫不', '没有', '沿', '沿着', '注意', '深入', '清楚', '满足', '漫说', '焉', '然则', '然后', '然後', '然而', '照', '照着', '特别是', '特殊', '特点', '现代', '现在', '甚么', '甚而', '甚至', '用', '由', '由于', '由此可见', '的', '的话', '目前', '直到', '直接', '相似', '相信', '相反', '相同', '相对', '相对而言', '相应', '相当', '相等', '省得', '看出', '看到', '看来', '看看', '看见', '真是', '真正', '着', '着呢', '矣', '知道', '确定', '离', '积极', '移动', '突出', '突然', '立即', '第', '等', '等等', '管', '紧接着', '纵', '纵令', '纵使', '纵然', '练习', '组成', '经', '经常', '经过', '结合', '结果', '给', '绝对', '继续', '继而', '维持', '综上所述', '罢了', '考虑', '者', '而', '而且', '而况', '而外', '而已', '而是', '而言', '联系', '能', '能否', '能够', '腾', '自', '自个儿', '自从', '自各儿', '自家', '自己', '自身', '至', '至于', '良好', '若', '若是', '若非', '范围', '莫若', '获得', '虽', '虽则', '虽然', '虽说', '行为', '行动', '表明', '表示', '被', '要', '要不', '要不是', '要不然', '要么', '要是', '要求', '规定', '觉得', '认为', '认真', '认识', '让', '许多', '论', '设使', '设若', '该', '说明', '诸位', '谁', '谁知', '赶', '起', '起来', '起见', '趁', '趁着', '越是', '跟', '转动', '转变', '转贴', '较', '较之', '边', '达到', '迅速', '过', '过去', '过来', '运用', '还是', '还有', '这', '这个', '这么', '这么些', '这么样', '这么点儿', '这些', '这会儿', '这儿', '这就是说', '这时', '这样', '这点', '这种', '这边', '这里', '这麽', '进入', '进步', '进而', '进行', '连', '连同', '适应', '适当', '适用', '逐步', '逐渐', '通常', '通过', '造成', '遇到', '遭到', '避免', '那', '那个', '那么', '那么些', '那么样', '那些', '那会儿', '那儿', '那时', '那样', '那边', '那里', '那麽', '部分', '鄙人', '采取', '里面', '重大', '重新', '重要', '鉴于', '问题', '防止', '阿', '附近', '限制', '除', '除了', '除此之外', '除非', '随', '随着', '随著', '集中', '需要', '非但', '非常', '非徒', '靠', '顺', '顺着', '首先', '高兴', '是不是']\n"
     ]
    }
   ],
   "source": [
    "print(\"*****Chinese Stopwords*****\")\n",
    "# Load Chinese stopwords\n",
    "print(stopwords.words('chinese'))"
   ]
  },
  {
   "cell_type": "code",
   "execution_count": 70,
   "metadata": {},
   "outputs": [
    {
     "name": "stdout",
     "output_type": "stream",
     "text": [
      "*****Arabic Stopwords*****\n",
      "['إذ', 'إذا', 'إذما', 'إذن', 'أف', 'أقل', 'أكثر', 'ألا', 'إلا', 'التي', 'الذي', 'الذين', 'اللاتي', 'اللائي', 'اللتان', 'اللتيا', 'اللتين', 'اللذان', 'اللذين', 'اللواتي', 'إلى', 'إليك', 'إليكم', 'إليكما', 'إليكن', 'أم', 'أما', 'أما', 'إما', 'أن', 'إن', 'إنا', 'أنا', 'أنت', 'أنتم', 'أنتما', 'أنتن', 'إنما', 'إنه', 'أنى', 'أنى', 'آه', 'آها', 'أو', 'أولاء', 'أولئك', 'أوه', 'آي', 'أي', 'أيها', 'إي', 'أين', 'أين', 'أينما', 'إيه', 'بخ', 'بس', 'بعد', 'بعض', 'بك', 'بكم', 'بكم', 'بكما', 'بكن', 'بل', 'بلى', 'بما', 'بماذا', 'بمن', 'بنا', 'به', 'بها', 'بهم', 'بهما', 'بهن', 'بي', 'بين', 'بيد', 'تلك', 'تلكم', 'تلكما', 'ته', 'تي', 'تين', 'تينك', 'ثم', 'ثمة', 'حاشا', 'حبذا', 'حتى', 'حيث', 'حيثما', 'حين', 'خلا', 'دون', 'ذا', 'ذات', 'ذاك', 'ذان', 'ذانك', 'ذلك', 'ذلكم', 'ذلكما', 'ذلكن', 'ذه', 'ذو', 'ذوا', 'ذواتا', 'ذواتي', 'ذي', 'ذين', 'ذينك', 'ريث', 'سوف', 'سوى', 'شتان', 'عدا', 'عسى', 'عل', 'على', 'عليك', 'عليه', 'عما', 'عن', 'عند', 'غير', 'فإذا', 'فإن', 'فلا', 'فمن', 'في', 'فيم', 'فيما', 'فيه', 'فيها', 'قد', 'كأن', 'كأنما', 'كأي', 'كأين', 'كذا', 'كذلك', 'كل', 'كلا', 'كلاهما', 'كلتا', 'كلما', 'كليكما', 'كليهما', 'كم', 'كم', 'كما', 'كي', 'كيت', 'كيف', 'كيفما', 'لا', 'لاسيما', 'لدى', 'لست', 'لستم', 'لستما', 'لستن', 'لسن', 'لسنا', 'لعل', 'لك', 'لكم', 'لكما', 'لكن', 'لكنما', 'لكي', 'لكيلا', 'لم', 'لما', 'لن', 'لنا', 'له', 'لها', 'لهم', 'لهما', 'لهن', 'لو', 'لولا', 'لوما', 'لي', 'لئن', 'ليت', 'ليس', 'ليسا', 'ليست', 'ليستا', 'ليسوا', 'ما', 'ماذا', 'متى', 'مذ', 'مع', 'مما', 'ممن', 'من', 'منه', 'منها', 'منذ', 'مه', 'مهما', 'نحن', 'نحو', 'نعم', 'ها', 'هاتان', 'هاته', 'هاتي', 'هاتين', 'هاك', 'هاهنا', 'هذا', 'هذان', 'هذه', 'هذي', 'هذين', 'هكذا', 'هل', 'هلا', 'هم', 'هما', 'هن', 'هنا', 'هناك', 'هنالك', 'هو', 'هؤلاء', 'هي', 'هيا', 'هيت', 'هيهات', 'والذي', 'والذين', 'وإذ', 'وإذا', 'وإن', 'ولا', 'ولكن', 'ولو', 'وما', 'ومن', 'وهو', 'يا', 'أبٌ', 'أخٌ', 'حمٌ', 'فو', 'أنتِ', 'يناير', 'فبراير', 'مارس', 'أبريل', 'مايو', 'يونيو', 'يوليو', 'أغسطس', 'سبتمبر', 'أكتوبر', 'نوفمبر', 'ديسمبر', 'جانفي', 'فيفري', 'مارس', 'أفريل', 'ماي', 'جوان', 'جويلية', 'أوت', 'كانون', 'شباط', 'آذار', 'نيسان', 'أيار', 'حزيران', 'تموز', 'آب', 'أيلول', 'تشرين', 'دولار', 'دينار', 'ريال', 'درهم', 'ليرة', 'جنيه', 'قرش', 'مليم', 'فلس', 'هللة', 'سنتيم', 'يورو', 'ين', 'يوان', 'شيكل', 'واحد', 'اثنان', 'ثلاثة', 'أربعة', 'خمسة', 'ستة', 'سبعة', 'ثمانية', 'تسعة', 'عشرة', 'أحد', 'اثنا', 'اثني', 'إحدى', 'ثلاث', 'أربع', 'خمس', 'ست', 'سبع', 'ثماني', 'تسع', 'عشر', 'ثمان', 'سبت', 'أحد', 'اثنين', 'ثلاثاء', 'أربعاء', 'خميس', 'جمعة', 'أول', 'ثان', 'ثاني', 'ثالث', 'رابع', 'خامس', 'سادس', 'سابع', 'ثامن', 'تاسع', 'عاشر', 'حادي', 'أ', 'ب', 'ت', 'ث', 'ج', 'ح', 'خ', 'د', 'ذ', 'ر', 'ز', 'س', 'ش', 'ص', 'ض', 'ط', 'ظ', 'ع', 'غ', 'ف', 'ق', 'ك', 'ل', 'م', 'ن', 'ه', 'و', 'ي', 'ء', 'ى', 'آ', 'ؤ', 'ئ', 'أ', 'ة', 'ألف', 'باء', 'تاء', 'ثاء', 'جيم', 'حاء', 'خاء', 'دال', 'ذال', 'راء', 'زاي', 'سين', 'شين', 'صاد', 'ضاد', 'طاء', 'ظاء', 'عين', 'غين', 'فاء', 'قاف', 'كاف', 'لام', 'ميم', 'نون', 'هاء', 'واو', 'ياء', 'همزة', 'ي', 'نا', 'ك', 'كن', 'ه', 'إياه', 'إياها', 'إياهما', 'إياهم', 'إياهن', 'إياك', 'إياكما', 'إياكم', 'إياك', 'إياكن', 'إياي', 'إيانا', 'أولالك', 'تانِ', 'تانِك', 'تِه', 'تِي', 'تَيْنِ', 'ثمّ', 'ثمّة', 'ذانِ', 'ذِه', 'ذِي', 'ذَيْنِ', 'هَؤلاء', 'هَاتانِ', 'هَاتِه', 'هَاتِي', 'هَاتَيْنِ', 'هَذا', 'هَذانِ', 'هَذِه', 'هَذِي', 'هَذَيْنِ', 'الألى', 'الألاء', 'أل', 'أنّى', 'أيّ', 'ّأيّان', 'أنّى', 'أيّ', 'ّأيّان', 'ذيت', 'كأيّ', 'كأيّن', 'بضع', 'فلان', 'وا', 'آمينَ', 'آهِ', 'آهٍ', 'آهاً', 'أُفٍّ', 'أُفٍّ', 'أفٍّ', 'أمامك', 'أمامكَ', 'أوّهْ', 'إلَيْكَ', 'إلَيْكَ', 'إليكَ', 'إليكنّ', 'إيهٍ', 'بخٍ', 'بسّ', 'بَسْ', 'بطآن', 'بَلْهَ', 'حاي', 'حَذارِ', 'حيَّ', 'حيَّ', 'دونك', 'رويدك', 'سرعان', 'شتانَ', 'شَتَّانَ', 'صهْ', 'صهٍ', 'طاق', 'طَق', 'عَدَسْ', 'كِخ', 'مكانَك', 'مكانَك', 'مكانَك', 'مكانكم', 'مكانكما', 'مكانكنّ', 'نَخْ', 'هاكَ', 'هَجْ', 'هلم', 'هيّا', 'هَيْهات', 'وا', 'واهاً', 'وراءَك', 'وُشْكَانَ', 'وَيْ', 'يفعلان', 'تفعلان', 'يفعلون', 'تفعلون', 'تفعلين', 'اتخذ', 'ألفى', 'تخذ', 'ترك', 'تعلَّم', 'جعل', 'حجا', 'حبيب', 'خال', 'حسب', 'خال', 'درى', 'رأى', 'زعم', 'صبر', 'ظنَّ', 'عدَّ', 'علم', 'غادر', 'ذهب', 'وجد', 'ورد', 'وهب', 'أسكن', 'أطعم', 'أعطى', 'رزق', 'زود', 'سقى', 'كسا', 'أخبر', 'أرى', 'أعلم', 'أنبأ', 'حدَث', 'خبَّر', 'نبَّا', 'أفعل به', 'ما أفعله', 'بئس', 'ساء', 'طالما', 'قلما', 'لات', 'لكنَّ', 'ءَ', 'أجل', 'إذاً', 'أمّا', 'إمّا', 'إنَّ', 'أنًّ', 'أى', 'إى', 'أيا', 'ب', 'ثمَّ', 'جلل', 'جير', 'رُبَّ', 'س', 'علًّ', 'ف', 'كأنّ', 'كلَّا', 'كى', 'ل', 'لات', 'لعلَّ', 'لكنَّ', 'لكنَّ', 'م', 'نَّ', 'هلّا', 'وا', 'أل', 'إلّا', 'ت', 'ك', 'لمّا', 'ن', 'ه', 'و', 'ا', 'ي', 'تجاه', 'تلقاء', 'جميع', 'حسب', 'سبحان', 'شبه', 'لعمر', 'مثل', 'معاذ', 'أبو', 'أخو', 'حمو', 'فو', 'مئة', 'مئتان', 'ثلاثمئة', 'أربعمئة', 'خمسمئة', 'ستمئة', 'سبعمئة', 'ثمنمئة', 'تسعمئة', 'مائة', 'ثلاثمائة', 'أربعمائة', 'خمسمائة', 'ستمائة', 'سبعمائة', 'ثمانمئة', 'تسعمائة', 'عشرون', 'ثلاثون', 'اربعون', 'خمسون', 'ستون', 'سبعون', 'ثمانون', 'تسعون', 'عشرين', 'ثلاثين', 'اربعين', 'خمسين', 'ستين', 'سبعين', 'ثمانين', 'تسعين', 'بضع', 'نيف', 'أجمع', 'جميع', 'عامة', 'عين', 'نفس', 'لا سيما', 'أصلا', 'أهلا', 'أيضا', 'بؤسا', 'بعدا', 'بغتة', 'تعسا', 'حقا', 'حمدا', 'خلافا', 'خاصة', 'دواليك', 'سحقا', 'سرا', 'سمعا', 'صبرا', 'صدقا', 'صراحة', 'طرا', 'عجبا', 'عيانا', 'غالبا', 'فرادى', 'فضلا', 'قاطبة', 'كثيرا', 'لبيك', 'معاذ', 'أبدا', 'إزاء', 'أصلا', 'الآن', 'أمد', 'أمس', 'آنفا', 'آناء', 'أنّى', 'أول', 'أيّان', 'تارة', 'ثمّ', 'ثمّة', 'حقا', 'صباح', 'مساء', 'ضحوة', 'عوض', 'غدا', 'غداة', 'قطّ', 'كلّما', 'لدن', 'لمّا', 'مرّة', 'قبل', 'خلف', 'أمام', 'فوق', 'تحت', 'يمين', 'شمال', 'ارتدّ', 'استحال', 'أصبح', 'أضحى', 'آض', 'أمسى', 'انقلب', 'بات', 'تبدّل', 'تحوّل', 'حار', 'رجع', 'راح', 'صار', 'ظلّ', 'عاد', 'غدا', 'كان', 'ما انفك', 'ما برح', 'مادام', 'مازال', 'مافتئ', 'ابتدأ', 'أخذ', 'اخلولق', 'أقبل', 'انبرى', 'أنشأ', 'أوشك', 'جعل', 'حرى', 'شرع', 'طفق', 'علق', 'قام', 'كرب', 'كاد', 'هبّ']\n"
     ]
    }
   ],
   "source": [
    "print(\"*****Arabic Stopwords*****\")\n",
    "# Load Arabic stopwords\n",
    "print(stopwords.words('arabic'))"
   ]
  },
  {
   "cell_type": "markdown",
   "metadata": {},
   "source": [
    "# Japanese Stop Words: \n",
    "Unfortunately, NLTK does not provide built-in Japanese stop words like it does for English (stopwords.words('english')). However, you can manually add Japanese stop words to NLTK's stopword list."
   ]
  },
  {
   "cell_type": "markdown",
   "metadata": {},
   "source": [
    "3.  Differentiate  between  lemmatization  and  stemming  with  the  help  of exemplary code."
   ]
  },
  {
   "cell_type": "code",
   "execution_count": 71,
   "metadata": {},
   "outputs": [
    {
     "name": "stdout",
     "output_type": "stream",
     "text": [
      "Original: better\n",
      "Stemming: better\n",
      "Lemmatization: good\n"
     ]
    }
   ],
   "source": [
    "import nltk\n",
    "from nltk.stem import PorterStemmer, WordNetLemmatizer\n",
    "\n",
    "# Initialize stemmer and lemmatizer\n",
    "ps = PorterStemmer()\n",
    "lemmatizer = WordNetLemmatizer()\n",
    "\n",
    "word = \"better\"\n",
    "\n",
    "# Stemming\n",
    "stemmed_word = ps.stem(word)\n",
    "\n",
    "# Lemmatization (as a verb)\n",
    "lemmatized_word = lemmatizer.lemmatize(word, pos='a')\n",
    "\n",
    "print(f\"Original: {word}\")\n",
    "print(f\"Stemming: {stemmed_word}\") \n",
    "print(f\"Lemmatization: {lemmatized_word}\")"
   ]
  },
  {
   "cell_type": "markdown",
   "metadata": {},
   "source": [
    "# **April 15, 2025 Lab 05**"
   ]
  },
  {
   "cell_type": "code",
   "execution_count": 4,
   "metadata": {},
   "outputs": [
    {
     "name": "stdout",
     "output_type": "stream",
     "text": [
      "One-hot encoded representation:\n",
      "[[1. 0. 0. 0.]\n",
      " [0. 1. 0. 0.]\n",
      " [0. 0. 0. 1.]\n",
      " [1. 0. 0. 0.]\n",
      " [0. 0. 1. 0.]\n",
      " [0. 1. 0. 0.]]\n",
      "\n",
      "Word to index mapping:\n",
      "apple -> 0\n",
      "banana -> 1\n",
      "kiwi -> 2\n",
      "orange -> 3\n"
     ]
    }
   ],
   "source": [
    "#Example 1:\n",
    "from sklearn.preprocessing import OneHotEncoder\n",
    "import numpy as np\n",
    "\n",
    "# Sample list of words\n",
    "words = ['apple', 'banana', 'orange', 'apple', 'kiwi', 'banana']\n",
    "\n",
    "# Create an instance of OneHotEncoder\n",
    "encoder = OneHotEncoder(sparse_output=False)\n",
    "\n",
    "# Reshape the words array to a 2D array\n",
    "words_array = np.array(words).reshape(-1, 1)\n",
    "\n",
    "# Fit and transform the words array\n",
    "onehot_encoded = encoder.fit_transform(words_array)\n",
    "\n",
    "# Display the one-hot encoded representation\n",
    "print(\"One-hot encoded representation:\")\n",
    "print(onehot_encoded)\n",
    "\n",
    "# Display the mapping of words to indices\n",
    "print(\"\\nWord to index mapping:\")\n",
    "for i, word in enumerate(encoder.categories_[0]):\n",
    "    print(word, \"->\", i)"
   ]
  },
  {
   "cell_type": "code",
   "execution_count": null,
   "metadata": {},
   "outputs": [
    {
     "name": "stdout",
     "output_type": "stream",
     "text": [
      "apple: [1, 0, 0]\n",
      "banana: [0, 1, 0]\n",
      "cherry: [0, 0, 1]\n"
     ]
    }
   ],
   "source": [
    "import pandas as pd\n",
    "import numpy as np\n",
    "import time\n",
    "from sklearn.preprocessing import OneHotEncoder\n",
    "\n",
    "# Start time\n",
    "start_time = time.time()\n",
    "\n",
    "# Example dataset of consumer clothing product reviews\n",
    "data = {\n",
    "    'Review': [\n",
    "        'Great fit and quality',\n",
    "        'Color was not as expected',\n",
    "        'Loved the material and design',\n",
    "        'Poor stitching and bad quality',\n",
    "        'Excellent product and fast delivery'\n",
    "    ]\n",
    "}\n",
    "\n",
    "# Convert into a DataFrame\n",
    "df = pd.DataFrame(data)\n",
    "\n",
    "# Preprocessing: Lowercase and split into words\n",
    "all_words = []\n",
    "for review in df['Review']:\n",
    "    words = review.lower().split()\n",
    "    all_words.extend(words)\n",
    "\n",
    "# Remove duplicates by converting to a set\n",
    "unique_words = list(set(all_words))\n",
    "\n",
    "# Create an instance of OneHotEncoder\n",
    "encoder = OneHotEncoder(sparse_output=False)\n",
    "\n",
    "# Reshape the unique words array to a 2D array\n",
    "words_array = np.array(unique_words).reshape(-1, 1)\n",
    "\n",
    "# Fit and transform the unique words array\n",
    "onehot_encoded = encoder.fit_transform(words_array)\n",
    "\n",
    "# Display the one-hot encoded representation\n",
    "print(\"One-hot encoded representation:\")\n",
    "print(onehot_encoded)\n",
    "\n",
    "# Display the mapping of words to indices\n",
    "print(\"\\nWord to index mapping:\")\n",
    "for i, word in enumerate(encoder.categories_[0]):\n",
    "    print(word, \"->\", i)\n",
    "\n",
    "# End time\n",
    "end_time = time.time()\n",
    "\n",
    "# Print execution time\n",
    "print(\"\\nExecution Time: {:.4f} seconds\".format(end_time - start_time))\n"
   ]
  },
  {
   "cell_type": "markdown",
   "metadata": {},
   "source": [
    "# Task 01"
   ]
  },
  {
   "cell_type": "markdown",
   "metadata": {},
   "source": []
  }
 ],
 "metadata": {
  "kernelspec": {
   "display_name": "Python 3",
   "language": "python",
   "name": "python3"
  },
  "language_info": {
   "codemirror_mode": {
    "name": "ipython",
    "version": 3
   },
   "file_extension": ".py",
   "mimetype": "text/x-python",
   "name": "python",
   "nbconvert_exporter": "python",
   "pygments_lexer": "ipython3",
   "version": "3.12.10"
  }
 },
 "nbformat": 4,
 "nbformat_minor": 2
}
