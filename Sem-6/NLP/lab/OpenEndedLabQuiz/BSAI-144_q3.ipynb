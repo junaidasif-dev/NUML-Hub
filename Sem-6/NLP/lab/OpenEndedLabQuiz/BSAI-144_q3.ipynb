{
 "cells": [
  {
   "cell_type": "code",
   "execution_count": 1,
   "id": "77214287",
   "metadata": {},
   "outputs": [
    {
     "name": "stdout",
     "output_type": "stream",
     "text": [
      "Bag of Words (BoW) Matrix:\n",
      "[[0 0 1 1 0]\n",
      " [1 1 0 0 0]\n",
      " [0 1 1 1 1]]\n",
      "Vocabulary: ['acting' 'bad' 'good' 'movie' 'plot']\n",
      "\n",
      "TF-IDF Matrix:\n",
      "[[0.         0.         0.70710678 0.70710678 0.        ]\n",
      " [0.79596054 0.60534851 0.         0.         0.        ]\n",
      " [0.         0.45985353 0.45985353 0.45985353 0.60465213]]\n",
      "Vocabulary: ['acting' 'bad' 'good' 'movie' 'plot']\n"
     ]
    }
   ],
   "source": [
    "from sklearn.feature_extraction.text import CountVectorizer, TfidfVectorizer\n",
    "\n",
    "# Given documents\n",
    "documents = [\"good movie\", \"bad acting\", \"good plot bad movie\"]\n",
    "\n",
    "# 1. Bag of Words (BoW) Representation\n",
    "vectorizer_bow = CountVectorizer()\n",
    "bow_matrix = vectorizer_bow.fit_transform(documents)\n",
    "print(\"Bag of Words (BoW) Matrix:\")\n",
    "print(bow_matrix.toarray())\n",
    "print(\"Vocabulary:\", vectorizer_bow.get_feature_names_out())\n",
    "\n",
    "# 2. TF-IDF Representation\n",
    "vectorizer_tfidf = TfidfVectorizer()\n",
    "tfidf_matrix = vectorizer_tfidf.fit_transform(documents)\n",
    "print(\"\\nTF-IDF Matrix:\")\n",
    "print(tfidf_matrix.toarray())\n",
    "print(\"Vocabulary:\", vectorizer_tfidf.get_feature_names_out())"
   ]
  }
 ],
 "metadata": {
  "kernelspec": {
   "display_name": "Python 3",
   "language": "python",
   "name": "python3"
  },
  "language_info": {
   "codemirror_mode": {
    "name": "ipython",
    "version": 3
   },
   "file_extension": ".py",
   "mimetype": "text/x-python",
   "name": "python",
   "nbconvert_exporter": "python",
   "pygments_lexer": "ipython3",
   "version": "3.12.10"
  }
 },
 "nbformat": 4,
 "nbformat_minor": 5
}
